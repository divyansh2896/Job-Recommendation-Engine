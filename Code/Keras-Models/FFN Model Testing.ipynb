{
 "cells": [
  {
   "cell_type": "code",
   "execution_count": 61,
   "metadata": {},
   "outputs": [],
   "source": [
    "from keras.models import Sequential\n",
    "from keras.layers.core import Dense, Dropout, Activation\n",
    "from keras.preprocessing.text import Tokenizer\n",
    "from keras import metrics, regularizers\n",
    "\n",
    "import pandas as pd\n",
    "\n",
    "from sklearn.model_selection import train_test_split\n",
    "from sklearn.preprocessing import LabelBinarizer"
   ]
  },
  {
   "cell_type": "code",
   "execution_count": 62,
   "metadata": {},
   "outputs": [],
   "source": [
    "#Load cleaned dataset\n",
    "data = pd.read_csv('../../Results/Cleaned_JobDescs.csv', header = 0, names = ['Query', 'Description'])\n",
    "#data = pd.read_csv('../../Results/Cleaned_JobsNonIT.csv', header = 0, names = ['Query', 'Description'])"
   ]
  },
  {
   "cell_type": "code",
   "execution_count": 63,
   "metadata": {},
   "outputs": [],
   "source": [
    "#Split the dataset to Training and Test subsets (90/10)\n",
    "train, test = train_test_split(data, test_size = 0.1, random_state = 17) #random_state = None\n",
    "\n",
    "train_descs = train['Description']\n",
    "train_labels = train['Query']\n",
    " \n",
    "test_descs = test['Description']\n",
    "test_labels = test['Query']"
   ]
  },
  {
   "cell_type": "code",
   "execution_count": 70,
   "metadata": {},
   "outputs": [],
   "source": [
    "# Model Parameters\n",
    "num_labels = len(train_labels.unique())\n",
    "vocab_size = 1000\n",
    "batch_size = 32\n",
    "nb_epoch = 50"
   ]
  },
  {
   "cell_type": "code",
   "execution_count": 71,
   "metadata": {},
   "outputs": [],
   "source": [
    "# Convert Texts to Numeric Vectors for Input\n",
    "tokenizer = Tokenizer(num_words = vocab_size)\n",
    "tokenizer.fit_on_texts(train_descs)\n",
    "x_train = tokenizer.texts_to_matrix(train_descs, mode = 'tfidf') #count, tfidf, binary\n",
    "x_test = tokenizer.texts_to_matrix(test_descs, mode = 'tfidf')\n",
    "\n",
    "encoder = LabelBinarizer()\n",
    "encoder.fit(train_labels)\n",
    "y_train = encoder.transform(train_labels)\n",
    "y_test = encoder.transform(test_labels)"
   ]
  },
  {
   "cell_type": "code",
   "execution_count": 72,
   "metadata": {},
   "outputs": [
    {
     "name": "stdout",
     "output_type": "stream",
     "text": [
      "_________________________________________________________________\n",
      "Layer (type)                 Output Shape              Param #   \n",
      "=================================================================\n",
      "dense_33 (Dense)             (None, 2048)              2050048   \n",
      "_________________________________________________________________\n",
      "activation_33 (Activation)   (None, 2048)              0         \n",
      "_________________________________________________________________\n",
      "dropout_21 (Dropout)         (None, 2048)              0         \n",
      "_________________________________________________________________\n",
      "dense_34 (Dense)             (None, 25)                51225     \n",
      "_________________________________________________________________\n",
      "activation_34 (Activation)   (None, 25)                0         \n",
      "=================================================================\n",
      "Total params: 2,101,273\n",
      "Trainable params: 2,101,273\n",
      "Non-trainable params: 0\n",
      "_________________________________________________________________\n"
     ]
    }
   ],
   "source": [
    "model = Sequential()\n",
    "model.add(Dense(2048, input_shape=(vocab_size,)))\n",
    "model.add(Activation('tanh'))\n",
    "model.add(Dropout(0.1))\n",
    "#model.add(Dense(1024))\n",
    "#model.add(Activation('tanh'))\n",
    "#model.add(Dropout(0.1))\n",
    "model.add(Dense(num_labels))\n",
    "model.add(Activation('softmax'))\n",
    "model.summary()\n",
    " \n",
    "model.compile(loss = 'categorical_crossentropy',\n",
    "              optimizer = 'sgd', #'sgd', 'adam', 'RMSprop', 'Adagrad'\n",
    "              metrics = [metrics.categorical_accuracy])"
   ]
  },
  {
   "cell_type": "code",
   "execution_count": 73,
   "metadata": {},
   "outputs": [
    {
     "name": "stdout",
     "output_type": "stream",
     "text": [
      "Train on 7200 samples, validate on 1800 samples\n",
      "Epoch 1/50\n",
      "7200/7200 [==============================] - 7s 970us/step - loss: 2.2360 - categorical_accuracy: 0.3682 - val_loss: 1.6827 - val_categorical_accuracy: 0.5161\n",
      "Epoch 2/50\n",
      "7200/7200 [==============================] - 6s 901us/step - loss: 1.3147 - categorical_accuracy: 0.6268 - val_loss: 1.4035 - val_categorical_accuracy: 0.5978\n",
      "Epoch 3/50\n",
      "7200/7200 [==============================] - 7s 903us/step - loss: 0.9920 - categorical_accuracy: 0.7210 - val_loss: 1.2969 - val_categorical_accuracy: 0.6150\n",
      "Epoch 4/50\n",
      "7200/7200 [==============================] - 7s 909us/step - loss: 0.8085 - categorical_accuracy: 0.7815 - val_loss: 1.2476 - val_categorical_accuracy: 0.6178\n",
      "Epoch 5/50\n",
      "7200/7200 [==============================] - 6s 892us/step - loss: 0.6741 - categorical_accuracy: 0.8244 - val_loss: 1.2123 - val_categorical_accuracy: 0.6311\n",
      "Epoch 6/50\n",
      "7200/7200 [==============================] - 7s 910us/step - loss: 0.5770 - categorical_accuracy: 0.8539 - val_loss: 1.1978 - val_categorical_accuracy: 0.6339\n",
      "Epoch 7/50\n",
      "7200/7200 [==============================] - 7s 903us/step - loss: 0.5010 - categorical_accuracy: 0.8839 - val_loss: 1.1944 - val_categorical_accuracy: 0.6317\n",
      "Epoch 8/50\n",
      "7200/7200 [==============================] - 7s 912us/step - loss: 0.4431 - categorical_accuracy: 0.8992 - val_loss: 1.1914 - val_categorical_accuracy: 0.6300\n",
      "Epoch 9/50\n",
      "7200/7200 [==============================] - 7s 1ms/step - loss: 0.3937 - categorical_accuracy: 0.9178 - val_loss: 1.1926 - val_categorical_accuracy: 0.6394\n",
      "Epoch 10/50\n",
      "7200/7200 [==============================] - 7s 964us/step - loss: 0.3529 - categorical_accuracy: 0.9286 - val_loss: 1.1997 - val_categorical_accuracy: 0.6417\n",
      "Epoch 11/50\n",
      "7200/7200 [==============================] - 8s 1ms/step - loss: 0.3200 - categorical_accuracy: 0.9396 - val_loss: 1.2034 - val_categorical_accuracy: 0.6450\n",
      "Epoch 12/50\n",
      "7200/7200 [==============================] - 7s 991us/step - loss: 0.2892 - categorical_accuracy: 0.9510 - val_loss: 1.2139 - val_categorical_accuracy: 0.6400\n",
      "Epoch 13/50\n",
      "7200/7200 [==============================] - 7s 1ms/step - loss: 0.2684 - categorical_accuracy: 0.9525 - val_loss: 1.2202 - val_categorical_accuracy: 0.6456\n",
      "Epoch 14/50\n",
      "7200/7200 [==============================] - 8s 1ms/step - loss: 0.2440 - categorical_accuracy: 0.9593 - val_loss: 1.2303 - val_categorical_accuracy: 0.6428\n",
      "Epoch 15/50\n",
      "7200/7200 [==============================] - 7s 1ms/step - loss: 0.2256 - categorical_accuracy: 0.9667 - val_loss: 1.2420 - val_categorical_accuracy: 0.6383\n",
      "Epoch 16/50\n",
      "7200/7200 [==============================] - 7s 1ms/step - loss: 0.2068 - categorical_accuracy: 0.9700 - val_loss: 1.2517 - val_categorical_accuracy: 0.6433\n",
      "Epoch 17/50\n",
      "7200/7200 [==============================] - 7s 1ms/step - loss: 0.1923 - categorical_accuracy: 0.9718 - val_loss: 1.2617 - val_categorical_accuracy: 0.6383\n",
      "Epoch 18/50\n",
      "7200/7200 [==============================] - 7s 1ms/step - loss: 0.1821 - categorical_accuracy: 0.9742 - val_loss: 1.2707 - val_categorical_accuracy: 0.6394\n",
      "Epoch 19/50\n",
      "7200/7200 [==============================] - 7s 1ms/step - loss: 0.1707 - categorical_accuracy: 0.9764 - val_loss: 1.2815 - val_categorical_accuracy: 0.6367\n",
      "Epoch 20/50\n",
      "7200/7200 [==============================] - 7s 1ms/step - loss: 0.1592 - categorical_accuracy: 0.9789 - val_loss: 1.2946 - val_categorical_accuracy: 0.6383\n",
      "Epoch 21/50\n",
      "7200/7200 [==============================] - 7s 1ms/step - loss: 0.1501 - categorical_accuracy: 0.9800 - val_loss: 1.3022 - val_categorical_accuracy: 0.6361\n",
      "Epoch 22/50\n",
      "7200/7200 [==============================] - 8s 1ms/step - loss: 0.1425 - categorical_accuracy: 0.9792 - val_loss: 1.3090 - val_categorical_accuracy: 0.6372\n",
      "Epoch 23/50\n",
      "7200/7200 [==============================] - 9s 1ms/step - loss: 0.1355 - categorical_accuracy: 0.9817 - val_loss: 1.3170 - val_categorical_accuracy: 0.6378\n",
      "Epoch 24/50\n",
      "7200/7200 [==============================] - 9s 1ms/step - loss: 0.1307 - categorical_accuracy: 0.9799 - val_loss: 1.3264 - val_categorical_accuracy: 0.6350\n",
      "Epoch 25/50\n",
      "7200/7200 [==============================] - 9s 1ms/step - loss: 0.1229 - categorical_accuracy: 0.9829 - val_loss: 1.3408 - val_categorical_accuracy: 0.6378\n",
      "Epoch 26/50\n",
      "7200/7200 [==============================] - 8s 1ms/step - loss: 0.1178 - categorical_accuracy: 0.9832 - val_loss: 1.3467 - val_categorical_accuracy: 0.6361\n",
      "Epoch 27/50\n",
      "7200/7200 [==============================] - 9s 1ms/step - loss: 0.1132 - categorical_accuracy: 0.9843 - val_loss: 1.3565 - val_categorical_accuracy: 0.6372\n",
      "Epoch 28/50\n",
      "7200/7200 [==============================] - 9s 1ms/step - loss: 0.1090 - categorical_accuracy: 0.9837 - val_loss: 1.3680 - val_categorical_accuracy: 0.6322\n",
      "Epoch 29/50\n",
      "7200/7200 [==============================] - 8s 1ms/step - loss: 0.1045 - categorical_accuracy: 0.9856 - val_loss: 1.3752 - val_categorical_accuracy: 0.6339\n",
      "Epoch 30/50\n",
      "7200/7200 [==============================] - 7s 982us/step - loss: 0.1008 - categorical_accuracy: 0.9837 - val_loss: 1.3847 - val_categorical_accuracy: 0.6350\n",
      "Epoch 31/50\n",
      "7200/7200 [==============================] - 9s 1ms/step - loss: 0.0972 - categorical_accuracy: 0.9851 - val_loss: 1.3889 - val_categorical_accuracy: 0.6361\n",
      "Epoch 32/50\n",
      "7200/7200 [==============================] - 8s 1ms/step - loss: 0.0948 - categorical_accuracy: 0.9857 - val_loss: 1.4007 - val_categorical_accuracy: 0.6333\n",
      "Epoch 33/50\n",
      "7200/7200 [==============================] - 9s 1ms/step - loss: 0.0919 - categorical_accuracy: 0.9857 - val_loss: 1.4042 - val_categorical_accuracy: 0.6333\n",
      "Epoch 34/50\n",
      "7200/7200 [==============================] - 8s 1ms/step - loss: 0.0880 - categorical_accuracy: 0.9857 - val_loss: 1.4135 - val_categorical_accuracy: 0.6322\n",
      "Epoch 35/50\n",
      "7200/7200 [==============================] - 8s 1ms/step - loss: 0.0862 - categorical_accuracy: 0.9861 - val_loss: 1.4199 - val_categorical_accuracy: 0.6367\n",
      "Epoch 36/50\n",
      "7200/7200 [==============================] - 10s 1ms/step - loss: 0.0842 - categorical_accuracy: 0.9853 - val_loss: 1.4303 - val_categorical_accuracy: 0.6356\n",
      "Epoch 37/50\n",
      "7200/7200 [==============================] - 8s 1ms/step - loss: 0.0819 - categorical_accuracy: 0.9861 - val_loss: 1.4376 - val_categorical_accuracy: 0.6322\n",
      "Epoch 38/50\n",
      "7200/7200 [==============================] - 7s 1ms/step - loss: 0.0792 - categorical_accuracy: 0.9858 - val_loss: 1.4386 - val_categorical_accuracy: 0.6328\n",
      "Epoch 39/50\n",
      "7200/7200 [==============================] - 8s 1ms/step - loss: 0.0781 - categorical_accuracy: 0.9861 - val_loss: 1.4472 - val_categorical_accuracy: 0.6328\n",
      "Epoch 40/50\n",
      "7200/7200 [==============================] - 7s 914us/step - loss: 0.0758 - categorical_accuracy: 0.9872 - val_loss: 1.4565 - val_categorical_accuracy: 0.6306\n",
      "Epoch 41/50\n",
      "7200/7200 [==============================] - 7s 926us/step - loss: 0.0741 - categorical_accuracy: 0.9857 - val_loss: 1.4622 - val_categorical_accuracy: 0.6300\n",
      "Epoch 42/50\n",
      "7200/7200 [==============================] - 7s 929us/step - loss: 0.0723 - categorical_accuracy: 0.9869 - val_loss: 1.4653 - val_categorical_accuracy: 0.6333\n",
      "Epoch 43/50\n",
      "7200/7200 [==============================] - 7s 939us/step - loss: 0.0710 - categorical_accuracy: 0.9861 - val_loss: 1.4715 - val_categorical_accuracy: 0.6322\n",
      "Epoch 44/50\n",
      "7200/7200 [==============================] - 7s 992us/step - loss: 0.0702 - categorical_accuracy: 0.9854 - val_loss: 1.4759 - val_categorical_accuracy: 0.6322\n",
      "Epoch 45/50\n",
      "7200/7200 [==============================] - 8s 1ms/step - loss: 0.0677 - categorical_accuracy: 0.9860 - val_loss: 1.4897 - val_categorical_accuracy: 0.6317\n",
      "Epoch 46/50\n",
      "7200/7200 [==============================] - 7s 931us/step - loss: 0.0669 - categorical_accuracy: 0.9878 - val_loss: 1.4906 - val_categorical_accuracy: 0.6322\n",
      "Epoch 47/50\n",
      "7200/7200 [==============================] - 7s 971us/step - loss: 0.0653 - categorical_accuracy: 0.9863 - val_loss: 1.4947 - val_categorical_accuracy: 0.6311\n",
      "Epoch 48/50\n",
      "7200/7200 [==============================] - 6s 871us/step - loss: 0.0638 - categorical_accuracy: 0.9878 - val_loss: 1.5036 - val_categorical_accuracy: 0.6289\n",
      "Epoch 49/50\n"
     ]
    },
    {
     "name": "stdout",
     "output_type": "stream",
     "text": [
      "7200/7200 [==============================] - 8s 1ms/step - loss: 0.0630 - categorical_accuracy: 0.9876 - val_loss: 1.5070 - val_categorical_accuracy: 0.6306\n",
      "Epoch 50/50\n",
      "7200/7200 [==============================] - 7s 1ms/step - loss: 0.0616 - categorical_accuracy: 0.9871 - val_loss: 1.5119 - val_categorical_accuracy: 0.6322\n"
     ]
    }
   ],
   "source": [
    "history = model.fit(x_train, y_train,\n",
    "                    batch_size = batch_size,\n",
    "                    epochs = nb_epoch,\n",
    "                    verbose = True,\n",
    "                    validation_split = 0.2)"
   ]
  },
  {
   "cell_type": "code",
   "execution_count": 74,
   "metadata": {},
   "outputs": [
    {
     "name": "stdout",
     "output_type": "stream",
     "text": [
      "1000/1000 [==============================] - 0s 209us/step\n",
      "\n",
      "Test categorical_crossentropy: 1.3015312871932982\n",
      "Categorical accuracy: 0.656\n"
     ]
    }
   ],
   "source": [
    "score = model.evaluate(x_test, y_test, batch_size = batch_size, verbose = True)\n",
    " \n",
    "print('\\nTest categorical_crossentropy:', score[0])\n",
    "print('Categorical accuracy:', score[1])\n"
   ]
  }
 ],
 "metadata": {
  "kernelspec": {
   "display_name": "Python 3",
   "language": "python",
   "name": "python3"
  },
  "language_info": {
   "codemirror_mode": {
    "name": "ipython",
    "version": 3
   },
   "file_extension": ".py",
   "mimetype": "text/x-python",
   "name": "python",
   "nbconvert_exporter": "python",
   "pygments_lexer": "ipython3",
   "version": "3.6.5"
  }
 },
 "nbformat": 4,
 "nbformat_minor": 2
}
