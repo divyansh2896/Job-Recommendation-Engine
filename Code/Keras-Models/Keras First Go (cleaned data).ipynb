{
 "cells": [
  {
   "cell_type": "code",
   "execution_count": 2,
   "metadata": {},
   "outputs": [],
   "source": [
    "from keras.models import Sequential\n",
    "from keras.layers.core import Dense, Dropout, Activation\n",
    "from keras.utils import np_utils\n",
    "from keras.preprocessing.text import Tokenizer\n",
    "from keras import metrics\n",
    "from keras.layers.embeddings import Embedding\n",
    "from keras.preprocessing.sequence import pad_sequences\n",
    "from keras.preprocessing.text import one_hot\n",
    "from keras.layers import Flatten\n",
    "\n",
    "from nltk import word_tokenize, pos_tag, chunk\n",
    "from pprint import pprint\n",
    "from nltk.corpus import stopwords\n",
    "from nltk.tokenize import RegexpTokenizer\n",
    "from nltk.stem import WordNetLemmatizer\n",
    "\n",
    "from pprint import pprint\n",
    "import pandas as pd\n",
    "import numpy as np\n",
    "\n",
    "from sklearn.model_selection import train_test_split\n",
    "from sklearn.preprocessing import LabelBinarizer"
   ]
  },
  {
   "cell_type": "code",
   "execution_count": 3,
   "metadata": {},
   "outputs": [],
   "source": [
    "#Load the entire dataset\n",
    "data = pd.read_csv('../../Results/JobsDataset.csv', header = 0, names = ['Query', 'Job Title', 'Description'])"
   ]
  },
  {
   "cell_type": "code",
   "execution_count": 4,
   "metadata": {},
   "outputs": [],
   "source": [
    "## Data cleaning\n",
    "#Create Job description list\n",
    "job_descriptions=[]\n",
    "for job in data.Description:\n",
    "    j = job.replace(',', '')\n",
    "    job_descriptions.append(j)\n",
    "    \n",
    "#Words tokenization\n",
    "jobs = [word_tokenize(d) for d in job_descriptions]\n",
    "\n",
    "#Remove Capitalization\n",
    "no_capitals =[]\n",
    "for job in jobs:\n",
    "    no_capitals.append([j.lower() for j in job])\n",
    "\n",
    "#Lemmatize\n",
    "lemmatizer = WordNetLemmatizer()\n",
    "lem=[]\n",
    "for job in no_capitals:\n",
    "    lem.append([lemmatizer.lemmatize(j) for j in job])\n",
    "\n",
    "#Remove stopwords\n",
    "filtered_words = []\n",
    "for job in lem:\n",
    "    filtered_words.append([j for j in job if not j in stopwords.words('english')])\n",
    "\n",
    "#Remove symbols\n",
    "cleaned_description=[]\n",
    "for job in filtered_words:\n",
    "    cleaned_description.append([j for j in job if not j in ['(',')','.',',',':','%']])\n",
    "\n",
    "#Final cleaned description list                                                            \n",
    "cleaned_desc=[]\n",
    "for description in cleaned_description:\n",
    "    cleaned_desc.append(\" \".join(description))\n",
    "\n",
    "                                                            \n",
    "#create new df \n",
    "df = pd.DataFrame({'Query':list(data.Query),'Description':cleaned_desc})\n"
   ]
  },
  {
   "cell_type": "code",
   "execution_count": 5,
   "metadata": {},
   "outputs": [],
   "source": [
    "train, test = train_test_split(df, test_size = 0.2)\n",
    "\n",
    "train_descs = train['Description']\n",
    "train_labels = train['Query']\n",
    "#train_labels = train['Job Title']\n",
    " \n",
    "test_descs = test['Description']\n",
    "test_labels = test['Query']"
   ]
  },
  {
   "cell_type": "code",
   "execution_count": 10,
   "metadata": {},
   "outputs": [],
   "source": [
    "num_labels = len(train_labels.unique().tolist())\n",
    "vocab_size = 1000\n",
    "batch_size = 200\n",
    "nb_epoch = 30\n",
    "\n",
    "# define Tokenizer with Vocab Size\n",
    "tokenizer = Tokenizer(num_words=vocab_size)\n",
    "tokenizer.fit_on_texts(train_descs)\n",
    "x_train = tokenizer.texts_to_matrix(train_descs, mode='tfidf')\n",
    "x_test = tokenizer.texts_to_matrix(test_descs, mode='tfidf')\n",
    " \n",
    "encoder = LabelBinarizer()\n",
    "encoder.fit(train_labels)\n",
    "y_train = encoder.transform(train_labels)\n",
    "y_test = encoder.transform(test_labels)"
   ]
  },
  {
   "cell_type": "code",
   "execution_count": 7,
   "metadata": {},
   "outputs": [
    {
     "name": "stdout",
     "output_type": "stream",
     "text": [
      "_________________________________________________________________\n",
      "Layer (type)                 Output Shape              Param #   \n",
      "=================================================================\n",
      "dense_1 (Dense)              (None, 512)               512512    \n",
      "_________________________________________________________________\n",
      "activation_1 (Activation)    (None, 512)               0         \n",
      "_________________________________________________________________\n",
      "dropout_1 (Dropout)          (None, 512)               0         \n",
      "_________________________________________________________________\n",
      "dense_2 (Dense)              (None, 512)               262656    \n",
      "_________________________________________________________________\n",
      "activation_2 (Activation)    (None, 512)               0         \n",
      "_________________________________________________________________\n",
      "dropout_2 (Dropout)          (None, 512)               0         \n",
      "_________________________________________________________________\n",
      "dense_3 (Dense)              (None, 25)                12825     \n",
      "_________________________________________________________________\n",
      "activation_3 (Activation)    (None, 25)                0         \n",
      "=================================================================\n",
      "Total params: 787,993\n",
      "Trainable params: 787,993\n",
      "Non-trainable params: 0\n",
      "_________________________________________________________________\n"
     ]
    }
   ],
   "source": [
    "model = Sequential()\n",
    "model.add(Dense(512, input_shape=(vocab_size,)))\n",
    "model.add(Activation('relu'))\n",
    "model.add(Dropout(0.3))\n",
    "model.add(Dense(512))\n",
    "model.add(Activation('relu'))\n",
    "model.add(Dropout(0.3))\n",
    "model.add(Dense(num_labels))\n",
    "model.add(Activation('softmax'))\n",
    "model.summary()\n",
    " \n",
    "model.compile(loss = 'categorical_crossentropy',\n",
    "              optimizer = 'adam', # or 'sgd'\n",
    "              metrics = [metrics.categorical_accuracy, 'accuracy'])"
   ]
  },
  {
   "cell_type": "code",
   "execution_count": 8,
   "metadata": {},
   "outputs": [
    {
     "name": "stdout",
     "output_type": "stream",
     "text": [
      "Train on 7200 samples, validate on 800 samples\n",
      "Epoch 1/30\n",
      "7200/7200 [==============================] - 1s 196us/step - loss: 2.6684 - categorical_accuracy: 0.2440 - acc: 0.2440 - val_loss: 1.8393 - val_categorical_accuracy: 0.4650 - val_acc: 0.4650\n",
      "Epoch 2/30\n",
      "7200/7200 [==============================] - 1s 103us/step - loss: 1.6051 - categorical_accuracy: 0.5292 - acc: 0.5292 - val_loss: 1.4972 - val_categorical_accuracy: 0.5537 - val_acc: 0.5537\n",
      "Epoch 3/30\n",
      "7200/7200 [==============================] - 1s 103us/step - loss: 1.1046 - categorical_accuracy: 0.6707 - acc: 0.6707 - val_loss: 1.3825 - val_categorical_accuracy: 0.5925 - val_acc: 0.5925\n",
      "Epoch 4/30\n",
      "7200/7200 [==============================] - 1s 101us/step - loss: 0.7356 - categorical_accuracy: 0.7721 - acc: 0.7721 - val_loss: 1.3561 - val_categorical_accuracy: 0.6088 - val_acc: 0.6088\n",
      "Epoch 5/30\n",
      "7200/7200 [==============================] - 1s 100us/step - loss: 0.5124 - categorical_accuracy: 0.8465 - acc: 0.8465 - val_loss: 1.3684 - val_categorical_accuracy: 0.6150 - val_acc: 0.6150\n",
      "Epoch 6/30\n",
      "7200/7200 [==============================] - 1s 100us/step - loss: 0.3695 - categorical_accuracy: 0.8888 - acc: 0.8888 - val_loss: 1.4343 - val_categorical_accuracy: 0.5963 - val_acc: 0.5963\n",
      "Epoch 7/30\n",
      "7200/7200 [==============================] - 1s 99us/step - loss: 0.2772 - categorical_accuracy: 0.9194 - acc: 0.9194 - val_loss: 1.4992 - val_categorical_accuracy: 0.5962 - val_acc: 0.5962\n",
      "Epoch 8/30\n",
      "7200/7200 [==============================] - 1s 99us/step - loss: 0.2083 - categorical_accuracy: 0.9419 - acc: 0.9419 - val_loss: 1.6018 - val_categorical_accuracy: 0.6088 - val_acc: 0.6088\n",
      "Epoch 9/30\n",
      "7200/7200 [==============================] - 1s 103us/step - loss: 0.1847 - categorical_accuracy: 0.9494 - acc: 0.9494 - val_loss: 1.6698 - val_categorical_accuracy: 0.5888 - val_acc: 0.5888\n",
      "Epoch 10/30\n",
      "7200/7200 [==============================] - 1s 101us/step - loss: 0.1508 - categorical_accuracy: 0.9590 - acc: 0.9590 - val_loss: 1.6434 - val_categorical_accuracy: 0.6063 - val_acc: 0.6063\n",
      "Epoch 11/30\n",
      "7200/7200 [==============================] - 1s 101us/step - loss: 0.1326 - categorical_accuracy: 0.9644 - acc: 0.9644 - val_loss: 1.6909 - val_categorical_accuracy: 0.6025 - val_acc: 0.6025\n",
      "Epoch 12/30\n",
      "7200/7200 [==============================] - 1s 100us/step - loss: 0.1192 - categorical_accuracy: 0.9671 - acc: 0.9671 - val_loss: 1.6995 - val_categorical_accuracy: 0.6000 - val_acc: 0.6000\n",
      "Epoch 13/30\n",
      "7200/7200 [==============================] - 1s 101us/step - loss: 0.1068 - categorical_accuracy: 0.9714 - acc: 0.9714 - val_loss: 1.7561 - val_categorical_accuracy: 0.5987 - val_acc: 0.5987\n",
      "Epoch 14/30\n",
      "7200/7200 [==============================] - 1s 99us/step - loss: 0.1017 - categorical_accuracy: 0.9724 - acc: 0.9724 - val_loss: 1.7811 - val_categorical_accuracy: 0.6038 - val_acc: 0.6038\n",
      "Epoch 15/30\n",
      "7200/7200 [==============================] - 1s 100us/step - loss: 0.0995 - categorical_accuracy: 0.9726 - acc: 0.9726 - val_loss: 1.7964 - val_categorical_accuracy: 0.5813 - val_acc: 0.5813\n",
      "Epoch 16/30\n",
      "7200/7200 [==============================] - 1s 104us/step - loss: 0.0893 - categorical_accuracy: 0.9779 - acc: 0.9779 - val_loss: 1.7934 - val_categorical_accuracy: 0.6050 - val_acc: 0.6050\n",
      "Epoch 17/30\n",
      "7200/7200 [==============================] - 1s 103us/step - loss: 0.0872 - categorical_accuracy: 0.9756 - acc: 0.9756 - val_loss: 1.8765 - val_categorical_accuracy: 0.6000 - val_acc: 0.6000\n",
      "Epoch 18/30\n",
      "7200/7200 [==============================] - 1s 106us/step - loss: 0.0818 - categorical_accuracy: 0.9779 - acc: 0.9779 - val_loss: 1.9849 - val_categorical_accuracy: 0.5962 - val_acc: 0.5962\n",
      "Epoch 19/30\n",
      "7200/7200 [==============================] - 1s 111us/step - loss: 0.0770 - categorical_accuracy: 0.9774 - acc: 0.9774 - val_loss: 1.8952 - val_categorical_accuracy: 0.6038 - val_acc: 0.6038\n",
      "Epoch 20/30\n",
      "7200/7200 [==============================] - 1s 114us/step - loss: 0.0699 - categorical_accuracy: 0.9817 - acc: 0.9817 - val_loss: 1.9590 - val_categorical_accuracy: 0.6088 - val_acc: 0.6088\n",
      "Epoch 21/30\n",
      "7200/7200 [==============================] - 1s 103us/step - loss: 0.0645 - categorical_accuracy: 0.9818 - acc: 0.9818 - val_loss: 1.9938 - val_categorical_accuracy: 0.6050 - val_acc: 0.6050\n",
      "Epoch 22/30\n",
      "7200/7200 [==============================] - 1s 101us/step - loss: 0.0724 - categorical_accuracy: 0.9808 - acc: 0.9808 - val_loss: 2.0032 - val_categorical_accuracy: 0.6075 - val_acc: 0.6075\n",
      "Epoch 23/30\n",
      "7200/7200 [==============================] - 1s 108us/step - loss: 0.0624 - categorical_accuracy: 0.9803 - acc: 0.9803 - val_loss: 2.0400 - val_categorical_accuracy: 0.6125 - val_acc: 0.6125\n",
      "Epoch 24/30\n",
      "7200/7200 [==============================] - 1s 100us/step - loss: 0.0643 - categorical_accuracy: 0.9810 - acc: 0.9810 - val_loss: 1.9918 - val_categorical_accuracy: 0.6138 - val_acc: 0.6138\n",
      "Epoch 25/30\n",
      "7200/7200 [==============================] - 1s 103us/step - loss: 0.0710 - categorical_accuracy: 0.9799 - acc: 0.9799 - val_loss: 1.9573 - val_categorical_accuracy: 0.6088 - val_acc: 0.6088\n",
      "Epoch 26/30\n",
      "7200/7200 [==============================] - 1s 107us/step - loss: 0.0718 - categorical_accuracy: 0.9789 - acc: 0.9789 - val_loss: 2.0382 - val_categorical_accuracy: 0.6175 - val_acc: 0.6175\n",
      "Epoch 27/30\n",
      "7200/7200 [==============================] - 1s 113us/step - loss: 0.0654 - categorical_accuracy: 0.9822 - acc: 0.9822 - val_loss: 2.0205 - val_categorical_accuracy: 0.6150 - val_acc: 0.6150\n",
      "Epoch 28/30\n",
      "7200/7200 [==============================] - 1s 113us/step - loss: 0.0587 - categorical_accuracy: 0.9840 - acc: 0.9840 - val_loss: 2.0039 - val_categorical_accuracy: 0.6100 - val_acc: 0.6100\n",
      "Epoch 29/30\n",
      "7200/7200 [==============================] - 1s 109us/step - loss: 0.0591 - categorical_accuracy: 0.9826 - acc: 0.9826 - val_loss: 1.9510 - val_categorical_accuracy: 0.6188 - val_acc: 0.6188\n",
      "Epoch 30/30\n",
      "7200/7200 [==============================] - 1s 119us/step - loss: 0.0661 - categorical_accuracy: 0.9811 - acc: 0.9811 - val_loss: 2.0887 - val_categorical_accuracy: 0.6000 - val_acc: 0.6000\n"
     ]
    }
   ],
   "source": [
    "history = model.fit(x_train, y_train,\n",
    "                    batch_size=batch_size,\n",
    "                    epochs=nb_epoch,\n",
    "                    verbose=1,\n",
    "                    validation_split=0.1)"
   ]
  },
  {
   "cell_type": "code",
   "execution_count": 9,
   "metadata": {},
   "outputs": [
    {
     "name": "stdout",
     "output_type": "stream",
     "text": [
      "2000/2000 [==============================] - 0s 27us/step\n",
      "\n",
      "Test categorical_crossentropy: 1.8923237562179565\n",
      "Categorical accuracy: 0.6169999957084655\n",
      "Accuracy: 0.6169999957084655\n"
     ]
    }
   ],
   "source": [
    "score = model.evaluate(x_test, y_test,\n",
    "                       batch_size=batch_size, verbose=1)\n",
    " \n",
    "print('\\nTest categorical_crossentropy:', score[0])\n",
    "print('Categorical accuracy:', score[1])\n",
    "print('Accuracy:', score[2])\n"
   ]
  }
 ],
 "metadata": {
  "kernelspec": {
   "display_name": "Python 3",
   "language": "python",
   "name": "python3"
  },
  "language_info": {
   "codemirror_mode": {
    "name": "ipython",
    "version": 3
   },
   "file_extension": ".py",
   "mimetype": "text/x-python",
   "name": "python",
   "nbconvert_exporter": "python",
   "pygments_lexer": "ipython3",
   "version": "3.6.5"
  }
 },
 "nbformat": 4,
 "nbformat_minor": 2
}
