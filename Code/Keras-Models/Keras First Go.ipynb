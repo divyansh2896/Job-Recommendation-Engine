{
 "cells": [
  {
   "cell_type": "code",
   "execution_count": 1,
   "metadata": {},
   "outputs": [
    {
     "name": "stderr",
     "output_type": "stream",
     "text": [
      "C:\\Users\\Minus\\Anaconda3\\lib\\site-packages\\h5py\\__init__.py:36: FutureWarning: Conversion of the second argument of issubdtype from `float` to `np.floating` is deprecated. In future, it will be treated as `np.float64 == np.dtype(float).type`.\n",
      "  from ._conv import register_converters as _register_converters\n",
      "Using TensorFlow backend.\n"
     ]
    }
   ],
   "source": [
    "from keras.models import Sequential\n",
    "from keras.layers.core import Dense, Dropout, Activation\n",
    "from keras.utils import np_utils\n",
    "from keras.preprocessing.text import Tokenizer\n",
    "from keras import metrics\n",
    "\n",
    "from pprint import pprint\n",
    "import pandas as pd\n",
    "import numpy as np\n",
    "\n",
    "from sklearn.model_selection import train_test_split\n",
    "from sklearn.preprocessing import LabelBinarizer"
   ]
  },
  {
   "cell_type": "code",
   "execution_count": 2,
   "metadata": {},
   "outputs": [
    {
     "name": "stdout",
     "output_type": "stream",
     "text": [
      "82\n",
      "1214\n",
      "81\n",
      "81\n"
     ]
    }
   ],
   "source": [
    "#Load the entire dataset\n",
    "data = pd.read_csv('../Datasets/results.csv', header = 0, names = ['Query', 'Job Title', 'Description'])\n",
    "\n",
    "#Split data to train and test (80 - 20)\n",
    "\n",
    "train, test = train_test_split(data, test_size = 0.2)\n",
    "\n",
    "train_descs = train['Description']\n",
    "train_labels = train['Query']\n",
    "#train_labels = train['Job Title']\n",
    " \n",
    "test_descs = test['Description']\n",
    "test_labels = test['Query']\n",
    "#test_labels = test['Job Title']\n",
    "\n",
    "print(len(data['Query'].unique().tolist()))\n",
    "print(len(data['Job Title'].unique().tolist()))\n",
    "\n",
    "print(len(train_labels.unique().tolist()))\n",
    "print(len(test_labels.unique().tolist()))"
   ]
  },
  {
   "cell_type": "code",
   "execution_count": 3,
   "metadata": {},
   "outputs": [],
   "source": [
    "num_labels = len(train_labels.unique().tolist())\n",
    "vocab_size = 1000\n",
    "batch_size = 100\n",
    "nb_epoch = 30\n",
    "\n",
    "# define Tokenizer with Vocab Size\n",
    "tokenizer = Tokenizer(num_words=vocab_size)\n",
    "tokenizer.fit_on_texts(train_descs)\n",
    " \n",
    "x_train = tokenizer.texts_to_matrix(train_descs, mode='tfidf')\n",
    "x_test = tokenizer.texts_to_matrix(test_descs, mode='tfidf')\n",
    " \n",
    "encoder = LabelBinarizer()\n",
    "encoder.fit(train_labels)\n",
    "y_train = encoder.transform(train_labels)\n",
    "y_test = encoder.transform(test_labels)"
   ]
  },
  {
   "cell_type": "code",
   "execution_count": 7,
   "metadata": {},
   "outputs": [
    {
     "name": "stdout",
     "output_type": "stream",
     "text": [
      "_________________________________________________________________\n",
      "Layer (type)                 Output Shape              Param #   \n",
      "=================================================================\n",
      "dense_4 (Dense)              (None, 512)               512512    \n",
      "_________________________________________________________________\n",
      "activation_4 (Activation)    (None, 512)               0         \n",
      "_________________________________________________________________\n",
      "dropout_3 (Dropout)          (None, 512)               0         \n",
      "_________________________________________________________________\n",
      "dense_5 (Dense)              (None, 512)               262656    \n",
      "_________________________________________________________________\n",
      "activation_5 (Activation)    (None, 512)               0         \n",
      "_________________________________________________________________\n",
      "dropout_4 (Dropout)          (None, 512)               0         \n",
      "_________________________________________________________________\n",
      "dense_6 (Dense)              (None, 81)                41553     \n",
      "_________________________________________________________________\n",
      "activation_6 (Activation)    (None, 81)                0         \n",
      "=================================================================\n",
      "Total params: 816,721\n",
      "Trainable params: 816,721\n",
      "Non-trainable params: 0\n",
      "_________________________________________________________________\n"
     ]
    }
   ],
   "source": [
    "model = Sequential()\n",
    "model.add(Dense(512, input_shape=(vocab_size,)))\n",
    "model.add(Activation('relu'))\n",
    "model.add(Dropout(0.3))\n",
    "model.add(Dense(512))\n",
    "model.add(Activation('relu'))\n",
    "model.add(Dropout(0.3))\n",
    "model.add(Dense(num_labels))\n",
    "model.add(Activation('softmax'))\n",
    "model.summary()\n",
    " \n",
    "model.compile(loss = 'categorical_crossentropy',\n",
    "              optimizer = 'adam', # or 'sgd'\n",
    "              metrics = [metrics.categorical_accuracy, 'accuracy'])"
   ]
  },
  {
   "cell_type": "code",
   "execution_count": 8,
   "metadata": {},
   "outputs": [
    {
     "name": "stdout",
     "output_type": "stream",
     "text": [
      "Train on 1080 samples, validate on 120 samples\n",
      "Epoch 1/30\n",
      "1080/1080 [==============================] - 1s 481us/step - loss: 4.5932 - categorical_accuracy: 0.0269 - acc: 0.0269 - val_loss: 4.1159 - val_categorical_accuracy: 0.1083 - val_acc: 0.1083\n",
      "Epoch 2/30\n",
      "1080/1080 [==============================] - 0s 230us/step - loss: 3.5811 - categorical_accuracy: 0.2167 - acc: 0.2167 - val_loss: 3.6816 - val_categorical_accuracy: 0.2333 - val_acc: 0.2333\n",
      "Epoch 3/30\n",
      "1080/1080 [==============================] - 0s 232us/step - loss: 2.7068 - categorical_accuracy: 0.4278 - acc: 0.4278 - val_loss: 3.1254 - val_categorical_accuracy: 0.3167 - val_acc: 0.3167\n",
      "Epoch 4/30\n",
      "1080/1080 [==============================] - 0s 230us/step - loss: 1.9778 - categorical_accuracy: 0.5648 - acc: 0.5648 - val_loss: 2.9324 - val_categorical_accuracy: 0.3250 - val_acc: 0.3250\n",
      "Epoch 5/30\n",
      "1080/1080 [==============================] - 0s 233us/step - loss: 1.3175 - categorical_accuracy: 0.7130 - acc: 0.7130 - val_loss: 2.8715 - val_categorical_accuracy: 0.3250 - val_acc: 0.3250\n",
      "Epoch 6/30\n",
      "1080/1080 [==============================] - 0s 233us/step - loss: 0.9545 - categorical_accuracy: 0.8009 - acc: 0.8009 - val_loss: 2.7379 - val_categorical_accuracy: 0.3583 - val_acc: 0.3583\n",
      "Epoch 7/30\n",
      "1080/1080 [==============================] - 0s 233us/step - loss: 0.7208 - categorical_accuracy: 0.8435 - acc: 0.8435 - val_loss: 2.7896 - val_categorical_accuracy: 0.3667 - val_acc: 0.3667\n",
      "Epoch 8/30\n",
      "1080/1080 [==============================] - 0s 233us/step - loss: 0.6131 - categorical_accuracy: 0.8602 - acc: 0.8602 - val_loss: 2.7073 - val_categorical_accuracy: 0.3917 - val_acc: 0.3917\n",
      "Epoch 9/30\n",
      "1080/1080 [==============================] - 0s 233us/step - loss: 0.4955 - categorical_accuracy: 0.8824 - acc: 0.8824 - val_loss: 2.9403 - val_categorical_accuracy: 0.3833 - val_acc: 0.3833\n",
      "Epoch 10/30\n",
      "1080/1080 [==============================] - 0s 235us/step - loss: 0.4429 - categorical_accuracy: 0.8926 - acc: 0.8926 - val_loss: 2.9174 - val_categorical_accuracy: 0.4167 - val_acc: 0.4167\n",
      "Epoch 11/30\n",
      "1080/1080 [==============================] - 0s 236us/step - loss: 0.4305 - categorical_accuracy: 0.8954 - acc: 0.8954 - val_loss: 2.8219 - val_categorical_accuracy: 0.4000 - val_acc: 0.4000\n",
      "Epoch 12/30\n",
      "1080/1080 [==============================] - 0s 234us/step - loss: 0.4471 - categorical_accuracy: 0.8880 - acc: 0.8880 - val_loss: 2.8749 - val_categorical_accuracy: 0.4000 - val_acc: 0.4000\n",
      "Epoch 13/30\n",
      "1080/1080 [==============================] - 0s 232us/step - loss: 0.4343 - categorical_accuracy: 0.8889 - acc: 0.8889 - val_loss: 2.8297 - val_categorical_accuracy: 0.3833 - val_acc: 0.3833\n",
      "Epoch 14/30\n",
      "1080/1080 [==============================] - 0s 229us/step - loss: 0.3725 - categorical_accuracy: 0.9028 - acc: 0.9028 - val_loss: 2.6908 - val_categorical_accuracy: 0.4250 - val_acc: 0.4250\n",
      "Epoch 15/30\n",
      "1080/1080 [==============================] - 0s 229us/step - loss: 0.3789 - categorical_accuracy: 0.9037 - acc: 0.9037 - val_loss: 2.8237 - val_categorical_accuracy: 0.4167 - val_acc: 0.4167\n",
      "Epoch 16/30\n",
      "1080/1080 [==============================] - 0s 231us/step - loss: 0.3538 - categorical_accuracy: 0.9130 - acc: 0.9130 - val_loss: 2.9353 - val_categorical_accuracy: 0.4000 - val_acc: 0.4000\n",
      "Epoch 17/30\n",
      "1080/1080 [==============================] - 0s 232us/step - loss: 0.3419 - categorical_accuracy: 0.9120 - acc: 0.9120 - val_loss: 2.9349 - val_categorical_accuracy: 0.3833 - val_acc: 0.3833\n",
      "Epoch 18/30\n",
      "1080/1080 [==============================] - 0s 229us/step - loss: 0.3378 - categorical_accuracy: 0.9056 - acc: 0.9056 - val_loss: 2.8376 - val_categorical_accuracy: 0.4167 - val_acc: 0.4167\n",
      "Epoch 19/30\n",
      "1080/1080 [==============================] - 0s 233us/step - loss: 0.3598 - categorical_accuracy: 0.9046 - acc: 0.9046 - val_loss: 2.9193 - val_categorical_accuracy: 0.4167 - val_acc: 0.4167\n",
      "Epoch 20/30\n",
      "1080/1080 [==============================] - 0s 230us/step - loss: 0.2931 - categorical_accuracy: 0.9194 - acc: 0.9194 - val_loss: 2.9320 - val_categorical_accuracy: 0.3833 - val_acc: 0.3833\n",
      "Epoch 21/30\n",
      "1080/1080 [==============================] - 0s 230us/step - loss: 0.3042 - categorical_accuracy: 0.9093 - acc: 0.9093 - val_loss: 2.9046 - val_categorical_accuracy: 0.3750 - val_acc: 0.3750\n",
      "Epoch 22/30\n",
      "1080/1080 [==============================] - 0s 233us/step - loss: 0.3094 - categorical_accuracy: 0.9093 - acc: 0.9093 - val_loss: 2.8448 - val_categorical_accuracy: 0.3833 - val_acc: 0.3833\n",
      "Epoch 23/30\n",
      "1080/1080 [==============================] - 0s 231us/step - loss: 0.3119 - categorical_accuracy: 0.9194 - acc: 0.9194 - val_loss: 2.9051 - val_categorical_accuracy: 0.4000 - val_acc: 0.4000\n",
      "Epoch 24/30\n",
      "1080/1080 [==============================] - 0s 228us/step - loss: 0.2932 - categorical_accuracy: 0.9046 - acc: 0.9046 - val_loss: 2.9934 - val_categorical_accuracy: 0.3833 - val_acc: 0.3833\n",
      "Epoch 25/30\n",
      "1080/1080 [==============================] - 0s 229us/step - loss: 0.2615 - categorical_accuracy: 0.9204 - acc: 0.9204 - val_loss: 3.0583 - val_categorical_accuracy: 0.3917 - val_acc: 0.3917\n",
      "Epoch 26/30\n",
      "1080/1080 [==============================] - 0s 230us/step - loss: 0.2763 - categorical_accuracy: 0.9185 - acc: 0.9185 - val_loss: 2.9645 - val_categorical_accuracy: 0.4250 - val_acc: 0.4250\n",
      "Epoch 27/30\n",
      "1080/1080 [==============================] - 0s 229us/step - loss: 0.2806 - categorical_accuracy: 0.9157 - acc: 0.9157 - val_loss: 3.0190 - val_categorical_accuracy: 0.4167 - val_acc: 0.4167\n",
      "Epoch 28/30\n",
      "1080/1080 [==============================] - 0s 227us/step - loss: 0.2338 - categorical_accuracy: 0.9222 - acc: 0.9222 - val_loss: 3.1230 - val_categorical_accuracy: 0.3833 - val_acc: 0.3833\n",
      "Epoch 29/30\n",
      "1080/1080 [==============================] - 0s 231us/step - loss: 0.2876 - categorical_accuracy: 0.9120 - acc: 0.9120 - val_loss: 3.1059 - val_categorical_accuracy: 0.3583 - val_acc: 0.3583\n",
      "Epoch 30/30\n",
      "1080/1080 [==============================] - 0s 229us/step - loss: 0.3244 - categorical_accuracy: 0.9046 - acc: 0.9046 - val_loss: 2.9372 - val_categorical_accuracy: 0.4000 - val_acc: 0.4000\n"
     ]
    }
   ],
   "source": [
    "history = model.fit(x_train, y_train,\n",
    "                    batch_size=batch_size,\n",
    "                    epochs=nb_epoch,\n",
    "                    verbose=1,\n",
    "                    validation_split=0.1)"
   ]
  },
  {
   "cell_type": "code",
   "execution_count": 10,
   "metadata": {},
   "outputs": [
    {
     "name": "stdout",
     "output_type": "stream",
     "text": [
      "300/300 [==============================] - 0s 80us/step\n",
      "\n",
      "Test categorical_crossentropy: 3.394968827565511\n",
      "Categorical accuracy: 0.33666666348775226\n",
      "Accuracy: 0.33666666348775226\n"
     ]
    }
   ],
   "source": [
    "score = model.evaluate(x_test, y_test,\n",
    "                       batch_size=batch_size, verbose=1)\n",
    " \n",
    "print('\\nTest categorical_crossentropy:', score[0])\n",
    "print('Categorical accuracy:', score[1])\n",
    "print('Accuracy:', score[2])\n"
   ]
  }
 ],
 "metadata": {
  "kernelspec": {
   "display_name": "Python 3",
   "language": "python",
   "name": "python3"
  },
  "language_info": {
   "codemirror_mode": {
    "name": "ipython",
    "version": 3
   },
   "file_extension": ".py",
   "mimetype": "text/x-python",
   "name": "python",
   "nbconvert_exporter": "python",
   "pygments_lexer": "ipython3",
   "version": "3.6.5"
  }
 },
 "nbformat": 4,
 "nbformat_minor": 2
}
