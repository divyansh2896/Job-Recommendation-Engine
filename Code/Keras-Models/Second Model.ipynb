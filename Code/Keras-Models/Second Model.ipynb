{
 "cells": [
  {
   "cell_type": "code",
   "execution_count": 1,
   "metadata": {},
   "outputs": [
    {
     "name": "stderr",
     "output_type": "stream",
     "text": [
      "C:\\Users\\geop\\Anaconda3\\lib\\site-packages\\h5py\\__init__.py:36: FutureWarning: Conversion of the second argument of issubdtype from `float` to `np.floating` is deprecated. In future, it will be treated as `np.float64 == np.dtype(float).type`.\n",
      "  from ._conv import register_converters as _register_converters\n",
      "Using TensorFlow backend.\n"
     ]
    }
   ],
   "source": [
    "from keras.models import Sequential\n",
    "from keras.layers.core import Dense, Dropout, Activation\n",
    "from keras.utils import np_utils\n",
    "from keras.preprocessing.text import Tokenizer\n",
    "from keras import metrics\n",
    "from keras.layers.embeddings import Embedding\n",
    "from keras.preprocessing.sequence import pad_sequences\n",
    "from keras.preprocessing.text import one_hot\n",
    "from keras.layers import Flatten\n",
    "\n",
    "from nltk import word_tokenize, pos_tag, chunk\n",
    "from pprint import pprint\n",
    "from nltk.corpus import stopwords\n",
    "from nltk.tokenize import RegexpTokenizer\n",
    "from nltk.stem import WordNetLemmatizer\n",
    "\n",
    "from pprint import pprint\n",
    "import pandas as pd\n",
    "import numpy as np\n",
    "\n",
    "from sklearn.model_selection import train_test_split\n",
    "from sklearn.preprocessing import LabelBinarizer"
   ]
  },
  {
   "cell_type": "code",
   "execution_count": 2,
   "metadata": {},
   "outputs": [],
   "source": [
    "#Load the entire dataset\n",
    "data = pd.read_csv('../../Results/JobsDataset.csv', header = 0, names = ['Query', 'Job Title', 'Description'])"
   ]
  },
  {
   "cell_type": "code",
   "execution_count": 3,
   "metadata": {},
   "outputs": [],
   "source": [
    "## Data cleaning\n",
    "#Create Job description list\n",
    "job_descriptions=[]\n",
    "for job in data.Description:\n",
    "    j = job.replace(',', '')\n",
    "    job_descriptions.append(j)\n",
    "    \n",
    "#Words tokenization\n",
    "jobs = [word_tokenize(d) for d in job_descriptions]\n",
    "\n",
    "#Remove Capitalization\n",
    "no_capitals =[]\n",
    "for job in jobs:\n",
    "    no_capitals.append([j.lower() for j in job])\n",
    "\n",
    "#Lemmatize\n",
    "lemmatizer = WordNetLemmatizer()\n",
    "lem=[]\n",
    "for job in no_capitals:\n",
    "    lem.append([lemmatizer.lemmatize(j) for j in job])\n",
    "\n",
    "#Remove stopwords\n",
    "filtered_words = []\n",
    "for job in lem:\n",
    "    filtered_words.append([j for j in job if not j in stopwords.words('english')])\n",
    "\n",
    "#Remove symbols\n",
    "cleaned_description=[]\n",
    "for job in filtered_words:\n",
    "    cleaned_description.append([j for j in job if not j in ['(',')','.',',',':','%']])\n",
    "\n",
    "#Final cleaned description list                                                            \n",
    "cleaned_desc=[]\n",
    "for description in cleaned_description:\n",
    "    cleaned_desc.append(\" \".join(description))\n",
    "\n",
    "                                                            \n",
    "#create new df \n",
    "df = pd.DataFrame({'Query':list(data.Query),'Description':cleaned_desc})\n"
   ]
  },
  {
   "cell_type": "code",
   "execution_count": 73,
   "metadata": {},
   "outputs": [],
   "source": [
    "#Create csv \n",
    "df.to_csv('../../Results/25_cleaned_job_descriptions.csv')"
   ]
  },
  {
   "cell_type": "code",
   "execution_count": 5,
   "metadata": {},
   "outputs": [],
   "source": [
    "#Split data to train and test (80 - 20)\n",
    "\n",
    "train, test = train_test_split(df, test_size = 0.2)\n",
    "\n",
    "train_descs = train['Description']\n",
    "train_labels = train['Query']\n",
    "#train_labels = train['Job Title']\n",
    " \n",
    "test_descs = test['Description']\n",
    "test_labels = test['Query']\n",
    "#test_labels = test['Job Title']"
   ]
  },
  {
   "cell_type": "code",
   "execution_count": 6,
   "metadata": {},
   "outputs": [],
   "source": [
    "##Parameters\n",
    "#Encoding\n",
    "vocab_size = 500\n",
    "max_length = 500\n",
    "\n",
    "#Model\n",
    "num_labels = 25\n",
    "embedding_dimensios = 20\n",
    "nb_epoch = 30\n",
    "batch_size = 100"
   ]
  },
  {
   "cell_type": "code",
   "execution_count": 7,
   "metadata": {},
   "outputs": [],
   "source": [
    "###Training Data\n",
    "# Encode the jobs descriptions\n",
    "encoded_docs = [one_hot(d, vocab_size) for d in train_descs]\n",
    "# pad documents to a max length\n",
    "x_train = pad_sequences(encoded_docs, maxlen=max_length, padding='post')\n",
    "#Binarize the job titles\n",
    "encoder = LabelBinarizer()\n",
    "encoder.fit(train_labels)\n",
    "y_train = encoder.transform(train_labels)\n",
    "\n",
    "\n",
    "###Test Data\n",
    "# Encode the jobs descriptions\n",
    "encoded_docs = [one_hot(d, vocab_size) for d in test_descs]\n",
    "# pad documents to a max length\n",
    "x_test = pad_sequences(encoded_docs, maxlen=max_length, padding='post')\n",
    "#Binarize the job titles\n",
    "encoder = LabelBinarizer()\n",
    "encoder.fit(test_labels)\n",
    "y_test = encoder.transform(test_labels)"
   ]
  },
  {
   "cell_type": "code",
   "execution_count": 8,
   "metadata": {
    "scrolled": true
   },
   "outputs": [
    {
     "name": "stdout",
     "output_type": "stream",
     "text": [
      "_________________________________________________________________\n",
      "Layer (type)                 Output Shape              Param #   \n",
      "=================================================================\n",
      "embedding_1 (Embedding)      (None, 500, 20)           10000     \n",
      "_________________________________________________________________\n",
      "flatten_1 (Flatten)          (None, 10000)             0         \n",
      "_________________________________________________________________\n",
      "dense_1 (Dense)              (None, 25)                250025    \n",
      "_________________________________________________________________\n",
      "activation_1 (Activation)    (None, 25)                0         \n",
      "=================================================================\n",
      "Total params: 260,025\n",
      "Trainable params: 260,025\n",
      "Non-trainable params: 0\n",
      "_________________________________________________________________\n",
      "None\n"
     ]
    }
   ],
   "source": [
    "# define the model\n",
    "model = Sequential()\n",
    "model.add(Embedding(vocab_size, embedding_dimensios, input_length=max_length))\n",
    "model.add(Flatten())\n",
    "model.add(Dense(num_labels))\n",
    "model.add(Activation('softmax'))\n",
    "# compile the model\n",
    "model.compile(optimizer='adam', loss='binary_crossentropy', metrics=['acc'])\n",
    "# summarize the model\n",
    "print(model.summary())"
   ]
  },
  {
   "cell_type": "code",
   "execution_count": 9,
   "metadata": {},
   "outputs": [],
   "source": [
    "model.compile(loss = 'categorical_crossentropy',\n",
    "              optimizer = 'adam', # or 'sgd'\n",
    "              metrics = [metrics.categorical_accuracy, 'accuracy'])"
   ]
  },
  {
   "cell_type": "code",
   "execution_count": 10,
   "metadata": {},
   "outputs": [
    {
     "name": "stdout",
     "output_type": "stream",
     "text": [
      "Train on 7200 samples, validate on 800 samples\n",
      "Epoch 1/30\n",
      "7200/7200 [==============================] - 1s 163us/step - loss: 3.1839 - categorical_accuracy: 0.0894 - acc: 0.0894 - val_loss: 3.1209 - val_categorical_accuracy: 0.1200 - val_acc: 0.1200\n",
      "Epoch 2/30\n",
      "7200/7200 [==============================] - 1s 85us/step - loss: 2.7827 - categorical_accuracy: 0.3599 - acc: 0.3599 - val_loss: 2.7702 - val_categorical_accuracy: 0.2713 - val_acc: 0.2713\n",
      "Epoch 3/30\n",
      "7200/7200 [==============================] - 1s 84us/step - loss: 1.8973 - categorical_accuracy: 0.7468 - acc: 0.7468 - val_loss: 2.3645 - val_categorical_accuracy: 0.3362 - val_acc: 0.3362\n",
      "Epoch 4/30\n",
      "7200/7200 [==============================] - 1s 88us/step - loss: 1.0514 - categorical_accuracy: 0.8840 - acc: 0.8840 - val_loss: 2.2095 - val_categorical_accuracy: 0.3525 - val_acc: 0.3525\n",
      "Epoch 5/30\n",
      "7200/7200 [==============================] - 1s 86us/step - loss: 0.5682 - categorical_accuracy: 0.9493 - acc: 0.9493 - val_loss: 2.1777 - val_categorical_accuracy: 0.3637 - val_acc: 0.3637\n",
      "Epoch 6/30\n",
      "7200/7200 [==============================] - 1s 86us/step - loss: 0.3321 - categorical_accuracy: 0.9742 - acc: 0.9742 - val_loss: 2.1815 - val_categorical_accuracy: 0.3625 - val_acc: 0.3625\n",
      "Epoch 7/30\n",
      "7200/7200 [==============================] - 1s 85us/step - loss: 0.2171 - categorical_accuracy: 0.9819 - acc: 0.9819 - val_loss: 2.2146 - val_categorical_accuracy: 0.3550 - val_acc: 0.3550\n",
      "Epoch 8/30\n",
      "7200/7200 [==============================] - 1s 86us/step - loss: 0.1562 - categorical_accuracy: 0.9856 - acc: 0.9856 - val_loss: 2.2288 - val_categorical_accuracy: 0.3650 - val_acc: 0.3650\n",
      "Epoch 9/30\n",
      "7200/7200 [==============================] - 1s 86us/step - loss: 0.1238 - categorical_accuracy: 0.9872 - acc: 0.9872 - val_loss: 2.2704 - val_categorical_accuracy: 0.3475 - val_acc: 0.3475\n",
      "Epoch 10/30\n",
      "7200/7200 [==============================] - 1s 88us/step - loss: 0.0998 - categorical_accuracy: 0.9871 - acc: 0.9871 - val_loss: 2.2894 - val_categorical_accuracy: 0.3638 - val_acc: 0.3638\n",
      "Epoch 11/30\n",
      "7200/7200 [==============================] - 1s 88us/step - loss: 0.0900 - categorical_accuracy: 0.9881 - acc: 0.9881 - val_loss: 2.3068 - val_categorical_accuracy: 0.3600 - val_acc: 0.3600\n",
      "Epoch 12/30\n",
      "7200/7200 [==============================] - 1s 87us/step - loss: 0.0775 - categorical_accuracy: 0.9883 - acc: 0.9883 - val_loss: 2.3429 - val_categorical_accuracy: 0.3562 - val_acc: 0.3562\n",
      "Epoch 13/30\n",
      "7200/7200 [==============================] - 1s 86us/step - loss: 0.0729 - categorical_accuracy: 0.9889 - acc: 0.9889 - val_loss: 2.3542 - val_categorical_accuracy: 0.3550 - val_acc: 0.3550\n",
      "Epoch 14/30\n",
      "7200/7200 [==============================] - 1s 85us/step - loss: 0.0680 - categorical_accuracy: 0.9885 - acc: 0.9885 - val_loss: 2.3768 - val_categorical_accuracy: 0.3613 - val_acc: 0.3613\n",
      "Epoch 15/30\n",
      "7200/7200 [==============================] - 1s 93us/step - loss: 0.0644 - categorical_accuracy: 0.9897 - acc: 0.9897 - val_loss: 2.4022 - val_categorical_accuracy: 0.3538 - val_acc: 0.3538\n",
      "Epoch 16/30\n",
      "7200/7200 [==============================] - 1s 87us/step - loss: 0.0660 - categorical_accuracy: 0.9894 - acc: 0.9894 - val_loss: 2.4163 - val_categorical_accuracy: 0.3550 - val_acc: 0.3550\n",
      "Epoch 17/30\n",
      "7200/7200 [==============================] - 1s 83us/step - loss: 0.0559 - categorical_accuracy: 0.9904 - acc: 0.9904 - val_loss: 2.4301 - val_categorical_accuracy: 0.3638 - val_acc: 0.3638\n",
      "Epoch 18/30\n",
      "7200/7200 [==============================] - 1s 85us/step - loss: 0.0601 - categorical_accuracy: 0.9893 - acc: 0.9893 - val_loss: 2.4531 - val_categorical_accuracy: 0.3550 - val_acc: 0.3550\n",
      "Epoch 19/30\n",
      "7200/7200 [==============================] - 1s 85us/step - loss: 0.0639 - categorical_accuracy: 0.9897 - acc: 0.9897 - val_loss: 2.4517 - val_categorical_accuracy: 0.3600 - val_acc: 0.3600\n",
      "Epoch 20/30\n",
      "7200/7200 [==============================] - 1s 86us/step - loss: 0.0612 - categorical_accuracy: 0.9901 - acc: 0.9901 - val_loss: 2.4858 - val_categorical_accuracy: 0.3575 - val_acc: 0.3575\n",
      "Epoch 21/30\n",
      "7200/7200 [==============================] - 1s 81us/step - loss: 0.0653 - categorical_accuracy: 0.9901 - acc: 0.9901 - val_loss: 2.4964 - val_categorical_accuracy: 0.3525 - val_acc: 0.3525\n",
      "Epoch 22/30\n",
      "7200/7200 [==============================] - 1s 83us/step - loss: 0.0597 - categorical_accuracy: 0.9906 - acc: 0.9906 - val_loss: 2.4985 - val_categorical_accuracy: 0.3562 - val_acc: 0.3562\n",
      "Epoch 23/30\n",
      "7200/7200 [==============================] - 1s 85us/step - loss: 0.0618 - categorical_accuracy: 0.9901 - acc: 0.9901 - val_loss: 2.5029 - val_categorical_accuracy: 0.3613 - val_acc: 0.3613\n",
      "Epoch 24/30\n",
      "7200/7200 [==============================] - 1s 85us/step - loss: 0.0630 - categorical_accuracy: 0.9908 - acc: 0.9908 - val_loss: 2.5221 - val_categorical_accuracy: 0.3500 - val_acc: 0.3500\n",
      "Epoch 25/30\n",
      "7200/7200 [==============================] - 1s 88us/step - loss: 0.0602 - categorical_accuracy: 0.9900 - acc: 0.9900 - val_loss: 2.5603 - val_categorical_accuracy: 0.3538 - val_acc: 0.3538\n",
      "Epoch 26/30\n",
      "7200/7200 [==============================] - 1s 89us/step - loss: 0.0598 - categorical_accuracy: 0.9901 - acc: 0.9901 - val_loss: 2.5301 - val_categorical_accuracy: 0.3538 - val_acc: 0.3538\n",
      "Epoch 27/30\n",
      "7200/7200 [==============================] - 1s 86us/step - loss: 0.0605 - categorical_accuracy: 0.9901 - acc: 0.9901 - val_loss: 2.5639 - val_categorical_accuracy: 0.3625 - val_acc: 0.3625\n",
      "Epoch 28/30\n",
      "7200/7200 [==============================] - 1s 85us/step - loss: 0.0624 - categorical_accuracy: 0.9900 - acc: 0.9900 - val_loss: 2.5671 - val_categorical_accuracy: 0.3512 - val_acc: 0.3512\n",
      "Epoch 29/30\n",
      "7200/7200 [==============================] - 1s 89us/step - loss: 0.0563 - categorical_accuracy: 0.9915 - acc: 0.9915 - val_loss: 2.5608 - val_categorical_accuracy: 0.3600 - val_acc: 0.3600\n",
      "Epoch 30/30\n",
      "7200/7200 [==============================] - 1s 86us/step - loss: 0.0565 - categorical_accuracy: 0.9903 - acc: 0.9903 - val_loss: 2.6145 - val_categorical_accuracy: 0.3513 - val_acc: 0.3513\n"
     ]
    }
   ],
   "source": [
    "# fit the model\n",
    "history = model.fit(x_train, y_train,\n",
    "                    batch_size=batch_size,\n",
    "                    epochs=nb_epoch,\n",
    "                    verbose=1,\n",
    "                    validation_split=0.1)"
   ]
  },
  {
   "cell_type": "code",
   "execution_count": null,
   "metadata": {},
   "outputs": [],
   "source": [
    "score = model.evaluate(x_test, y_test,\n",
    "                       batch_size=batch_size, verbose=1)\n",
    " \n",
    "print('\\nTest categorical_cro    ssentropy:', score[0])\n",
    "print('Categorical accuracy:', score[1])\n",
    "print('Accuracy:', score[2])"
   ]
  },
  {
   "cell_type": "code",
   "execution_count": 68,
   "metadata": {},
   "outputs": [],
   "source": [
    "#Prediction Function\n",
    "\n",
    "def Prediction(model,user_text):\n",
    "    \n",
    "    # Encode the text\n",
    "    encoded_docs = [one_hot(user_text, vocab_size)]\n",
    "    \n",
    "    # pad documents to a max length\n",
    "    padded_text = pad_sequences(encoded_docs, maxlen=max_length, padding='post')\n",
    "    \n",
    "    #Prediction based on model\n",
    "    prediction = model.predict(x)\n",
    "    \n",
    "    #Decode the prediction\n",
    "    encoder = LabelBinarizer()\n",
    "    encoder.fit(test_labels)\n",
    "    result = encoder.inverse_transform(prediction)\n",
    "    \n",
    "    print(\"I think the best job for you is: \")\n",
    "    \n",
    "    return(result[0])"
   ]
  },
  {
   "cell_type": "code",
   "execution_count": 71,
   "metadata": {},
   "outputs": [
    {
     "name": "stdout",
     "output_type": "stream",
     "text": [
      "I think the best job for you is: \n"
     ]
    },
    {
     "data": {
      "text/plain": [
       "'Data Analyst'"
      ]
     },
     "execution_count": 71,
     "metadata": {},
     "output_type": "execute_result"
    }
   ],
   "source": [
    "Prediction(model,'statistics and python')"
   ]
  }
 ],
 "metadata": {
  "kernelspec": {
   "display_name": "Python 3",
   "language": "python",
   "name": "python3"
  },
  "language_info": {
   "codemirror_mode": {
    "name": "ipython",
    "version": 3
   },
   "file_extension": ".py",
   "mimetype": "text/x-python",
   "name": "python",
   "nbconvert_exporter": "python",
   "pygments_lexer": "ipython3",
   "version": "3.6.5"
  }
 },
 "nbformat": 4,
 "nbformat_minor": 2
}
