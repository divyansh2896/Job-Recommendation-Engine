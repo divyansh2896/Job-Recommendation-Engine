{
 "cells": [
  {
   "cell_type": "code",
   "execution_count": 4,
   "metadata": {},
   "outputs": [],
   "source": [
    "from nltk import word_tokenize, pos_tag, chunk\n",
    "from pprint import pprint\n",
    "from nltk.corpus import stopwords\n",
    "from nltk.tokenize import RegexpTokenizer\n",
    "from nltk.stem import WordNetLemmatizer\n",
    "\n",
    "import pandas as pd\n",
    "import numpy as np"
   ]
  },
  {
   "cell_type": "code",
   "execution_count": 5,
   "metadata": {},
   "outputs": [],
   "source": [
    "#Load the entire dataset\n",
    "data = pd.read_csv('../../Results/JobsDataset.csv', header = 0, names = ['Query', 'Job Title', 'Description'])"
   ]
  },
  {
   "cell_type": "code",
   "execution_count": 1,
   "metadata": {},
   "outputs": [],
   "source": [
    "## Data cleaning\n",
    "#Create Job description list\n",
    "job_descriptions=[]\n",
    "for job in data.Description:\n",
    "    j = job.replace(',', '')\n",
    "    job_descriptions.append(j)\n",
    "    \n",
    "#Words tokenization\n",
    "jobs = [word_tokenize(d) for d in job_descriptions]\n",
    "\n",
    "#Remove Capitalization\n",
    "no_capitals =[]\n",
    "for job in jobs:\n",
    "    no_capitals.append([j.lower() for j in job])\n",
    "\n",
    "#Lemmatize\n",
    "lemmatizer = WordNetLemmatizer()\n",
    "lem=[]\n",
    "for job in no_capitals:\n",
    "    lem.append([lemmatizer.lemmatize(j) for j in job])\n",
    "\n",
    "#Remove stopwords\n",
    "filtered_words = []\n",
    "for job in lem:\n",
    "    filtered_words.append([j for j in job if not j in stopwords.words('english')])\n",
    "\n",
    "#Remove symbols\n",
    "cleaned_description=[]\n",
    "for job in filtered_words:\n",
    "    cleaned_description.append([j for j in job if not j in ['(',')','.',',',':','%']])\n",
    "\n",
    "#Final cleaned description list                                                            \n",
    "cleaned_desc=[]\n",
    "for description in cleaned_description:\n",
    "    cleaned_desc.append(\" \".join(description))\n",
    "\n",
    "                                                            \n",
    "#create new df \n",
    "df = pd.DataFrame({'Query':list(data.Query),'Description':cleaned_desc})\n"
   ]
  },
  {
   "cell_type": "code",
   "execution_count": null,
   "metadata": {},
   "outputs": [],
   "source": [
    "#Create csv \n",
    "df.to_csv('../../Results/25_cleaned_job_descriptions.csv')"
   ]
  }
 ],
 "metadata": {
  "kernelspec": {
   "display_name": "Python 3",
   "language": "python",
   "name": "python3"
  },
  "language_info": {
   "codemirror_mode": {
    "name": "ipython",
    "version": 3
   },
   "file_extension": ".py",
   "mimetype": "text/x-python",
   "name": "python",
   "nbconvert_exporter": "python",
   "pygments_lexer": "ipython3",
   "version": "3.6.5"
  }
 },
 "nbformat": 4,
 "nbformat_minor": 2
}
