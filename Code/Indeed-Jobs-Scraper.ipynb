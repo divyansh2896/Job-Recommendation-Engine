{
 "cells": [
  {
   "cell_type": "code",
   "execution_count": 8,
   "metadata": {},
   "outputs": [],
   "source": [
    "#Import Libraries\n",
    "from bs4 import BeautifulSoup\n",
    "from html2text import html2text\n",
    "import pandas as pd\n",
    "import pprint as pp\n",
    "import requests\n",
    "import time"
   ]
  },
  {
   "cell_type": "code",
   "execution_count": 9,
   "metadata": {},
   "outputs": [],
   "source": [
    "#Extract Job Title Function\n",
    "def extract_job_title_from_result(soup): \n",
    "    jobs = []\n",
    "    for div in soup.find_all(name = \"div\", attrs = {\"class\":\"row\"}):\n",
    "        for a in div.find_all(name = \"a\", attrs = {\"data-tn-element\":\"jobTitle\"}):\n",
    "            jobs.append(a[\"title\"])\n",
    "    return(jobs)"
   ]
  },
  {
   "cell_type": "code",
   "execution_count": 10,
   "metadata": {},
   "outputs": [],
   "source": [
    "#Extract Job URL Function\n",
    "def extract_job_url_from_result(soup): \n",
    "    urls = []\n",
    "    for div in soup.find_all(name = \"div\", attrs = {\"class\":\"row\"}):\n",
    "        for a in div.find_all(name = \"a\", attrs = {\"data-tn-element\":\"jobTitle\"}):\n",
    "            this_url = a['href']\n",
    "            to_go_url = \"https://www.indeed.com/viewjob\" + this_url[7:]\n",
    "            urls.append(to_go_url)\n",
    "    return(urls)"
   ]
  },
  {
   "cell_type": "code",
   "execution_count": 11,
   "metadata": {},
   "outputs": [],
   "source": [
    "def extract_text_from_jobURL(url):\n",
    "    page = requests.get(url)\n",
    "    soup = BeautifulSoup(page.text, \"html.parser\")\n",
    "    \n",
    "    table = soup.find('table', id = 'job-content')\n",
    "    span = table.find('span', id = 'job_summary')\n",
    "    div = span.find('div')\n",
    "    \n",
    "    return(html2text(str(div)))"
   ]
  },
  {
   "cell_type": "code",
   "execution_count": 13,
   "metadata": {},
   "outputs": [],
   "source": [
    "#Import the Job Title Dataset\n",
    "job_titles=pd.read_csv(\"..\\Datasets\\Job_Titles.csv\", sep = \",\")\n",
    "\n",
    "#Create job_titles list\n",
    "job_list=list(job_titles.Job_titles)\n",
    "\n",
    "#Replace spaces with '+'\n",
    "job_list2=[]\n",
    "for item in job_list:\n",
    "    job_list2.append(item.replace(' ', '+'))\n",
    "    \n",
    "job_list=job_list2"
   ]
  },
  {
   "cell_type": "code",
   "execution_count": 58,
   "metadata": {},
   "outputs": [],
   "source": [
    "#Create URLs (for testing)\n",
    "short_job_list=['Top+Executives', 'Chief+Executives']\n",
    "short_city_list=['New+York','Chicago','San+Francisco']\n",
    "\n",
    "\n",
    "url_list=[]\n",
    "for city in short_city_list:\n",
    "    for job in short_job_list:\n",
    "        for start in range(0,20,10):\n",
    "            URL=\"http://www.indeed.com/jobs?q=\"+ job + \"%2420%2C000&l=\" + str(city) + \"&start=\" + str(start)\n",
    "            url_list.append(URL)"
   ]
  },
  {
   "cell_type": "code",
   "execution_count": 59,
   "metadata": {},
   "outputs": [],
   "source": [
    "columns=[\"job_title\",\"job_description\"]\n",
    "df = pd.DataFrame(columns = columns)\n",
    "\n",
    "for i in url_list:\n",
    "\n",
    "    #Conducting a request of the stated URL above:\n",
    "    page = requests.get(i)\n",
    "    \n",
    "    #Specifying a desired format of “page” using the html parser\n",
    "    soup = BeautifulSoup(page.text, \"html.parser\")\n",
    "\n",
    "    #Go to job page\n",
    "    url_list = extract_job_url_from_result(soup)\n",
    "    \n",
    "    #Extract job title\n",
    "    job_title=extract_job_title_from_result(soup)\n",
    "    \n",
    "    #Extract job description\n",
    "    job_description=extract_text_from_jobURL(url_list[0])\n",
    "    \n",
    "    #Add a new row\n",
    "    df.loc[len(df)]=[job_title,job_description]"
   ]
  },
  {
   "cell_type": "code",
   "execution_count": 60,
   "metadata": {},
   "outputs": [
    {
     "data": {
      "text/html": [
       "<div>\n",
       "<style scoped>\n",
       "    .dataframe tbody tr th:only-of-type {\n",
       "        vertical-align: middle;\n",
       "    }\n",
       "\n",
       "    .dataframe tbody tr th {\n",
       "        vertical-align: top;\n",
       "    }\n",
       "\n",
       "    .dataframe thead th {\n",
       "        text-align: right;\n",
       "    }\n",
       "</style>\n",
       "<table border=\"1\" class=\"dataframe\">\n",
       "  <thead>\n",
       "    <tr style=\"text-align: right;\">\n",
       "      <th></th>\n",
       "      <th>job_title</th>\n",
       "      <th>job_description</th>\n",
       "    </tr>\n",
       "  </thead>\n",
       "  <tbody>\n",
       "    <tr>\n",
       "      <th>0</th>\n",
       "      <td>[Administrative Assistant, Tower Technician / ...</td>\n",
       "      <td>We are PepsiCo Sales. We are game changers, mo...</td>\n",
       "    </tr>\n",
       "    <tr>\n",
       "      <th>1</th>\n",
       "      <td>[VP Event Presentation, Associate Occupancy Pl...</td>\n",
       "      <td>## **Overview **\\n\\nThe Madison Square Garden ...</td>\n",
       "    </tr>\n",
       "    <tr>\n",
       "      <th>2</th>\n",
       "      <td>[Chief of Staff, Chief of Staff, Chief of Staf...</td>\n",
       "      <td>None\\n\\n</td>\n",
       "    </tr>\n",
       "    <tr>\n",
       "      <th>3</th>\n",
       "      <td>[Chief of Staff to the Provost, Associate - Of...</td>\n",
       "      <td>The Chief of Staff to the Provost works as a c...</td>\n",
       "    </tr>\n",
       "    <tr>\n",
       "      <th>4</th>\n",
       "      <td>[Receptionist, Help Desk Specialist, Mental He...</td>\n",
       "      <td>## **Overview **\\n\\nARCO/Murray is a premier, ...</td>\n",
       "    </tr>\n",
       "  </tbody>\n",
       "</table>\n",
       "</div>"
      ],
      "text/plain": [
       "                                           job_title  \\\n",
       "0  [Administrative Assistant, Tower Technician / ...   \n",
       "1  [VP Event Presentation, Associate Occupancy Pl...   \n",
       "2  [Chief of Staff, Chief of Staff, Chief of Staf...   \n",
       "3  [Chief of Staff to the Provost, Associate - Of...   \n",
       "4  [Receptionist, Help Desk Specialist, Mental He...   \n",
       "\n",
       "                                     job_description  \n",
       "0  We are PepsiCo Sales. We are game changers, mo...  \n",
       "1  ## **Overview **\\n\\nThe Madison Square Garden ...  \n",
       "2                                           None\\n\\n  \n",
       "3  The Chief of Staff to the Provost works as a c...  \n",
       "4  ## **Overview **\\n\\nARCO/Murray is a premier, ...  "
      ]
     },
     "execution_count": 60,
     "metadata": {},
     "output_type": "execute_result"
    }
   ],
   "source": [
    "df.head()"
   ]
  }
 ],
 "metadata": {
  "kernelspec": {
   "display_name": "Python 3",
   "language": "python",
   "name": "python3"
  },
  "language_info": {
   "codemirror_mode": {
    "name": "ipython",
    "version": 3
   },
   "file_extension": ".py",
   "mimetype": "text/x-python",
   "name": "python",
   "nbconvert_exporter": "python",
   "pygments_lexer": "ipython3",
   "version": "3.6.4"
  }
 },
 "nbformat": 4,
 "nbformat_minor": 2
}
