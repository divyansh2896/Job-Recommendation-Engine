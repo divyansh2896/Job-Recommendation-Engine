{
 "cells": [
  {
   "cell_type": "code",
   "execution_count": 2,
   "metadata": {},
   "outputs": [],
   "source": [
    "#Import Libraries\n",
    "import requests\n",
    "import bs4\n",
    "from bs4 import BeautifulSoup\n",
    "import pandas as pd\n",
    "import time"
   ]
  },
  {
   "cell_type": "code",
   "execution_count": 74,
   "metadata": {},
   "outputs": [],
   "source": [
    "#Extract Job Title Function\n",
    "def extract_job_title_from_result(soup): \n",
    "    jobs = []\n",
    "    for div in soup.find_all(name=\"div\", attrs={\"class\":\"row\"}):\n",
    "        for a in div.find_all(name=\"a\", attrs={\"data-tn-element\":\"jobTitle\"}):\n",
    "            jobs.append(a[\"title\"])\n",
    "    return(jobs)"
   ]
  },
  {
   "cell_type": "code",
   "execution_count": 75,
   "metadata": {},
   "outputs": [],
   "source": [
    "#Extract Job Description\n",
    "def extract_summary_from_result(soup): \n",
    "    summaries = []\n",
    "    spans = soup.findAll(\"span\", attrs={\"class\": \"summary\"})\n",
    "    for span in spans:\n",
    "        summaries.append(span.text.strip())\n",
    "    return(summaries)"
   ]
  },
  {
   "cell_type": "code",
   "execution_count": 73,
   "metadata": {},
   "outputs": [],
   "source": [
    "#Import the Job Title Dataset\n",
    "job_titles=pd.read_csv(r\"C:\\Users\\georg\\Dropbox\\Business Analytics\\Spring-Quarter\\Big_Data_Content\\Project\\Git_code\\Datasets\\Job_Titles.csv\",sep=\",\")\n",
    "\n",
    "#Create job_titles list\n",
    "job_list=list(job_titles.Job_titles)\n",
    "\n",
    "#Replace spaces with '+'\n",
    "job_list2=[]\n",
    "for item in job_list:\n",
    "    job_list2.append(item.replace(' ', '+'))\n",
    "    \n",
    "job_list=job_list2"
   ]
  },
  {
   "cell_type": "code",
   "execution_count": 76,
   "metadata": {},
   "outputs": [
    {
     "data": {
      "text/plain": [
       "['Data management and analysis, 65%. Under direct supervision of the Principal Investigator and senior research team, the incumbent will be responsible for data...',\n",
       " 'They ensure that product data becomes and remains clean and accurate. The Data Quality Analyst is responsible for structuring and management of product...',\n",
       " 'Reconciling data discrepancies and inconsistencies. Validating information by cross-referencing data on multiple sources....',\n",
       " 'Familiarity with various social media platforms and an interest in analyzing/organizing/interpreting data. The Communications Assistant reports to the Media...',\n",
       " 'We have an opening for a full-time CLERK, DATA ENTRY position. Fills in for other Data Entry Clerks as needed and works cooperatively with others....',\n",
       " 'Provide technical expertise to the Manager, SRC Data Analysis regarding data models, database design development, and data mining....',\n",
       " 'Coordinate and collect input data from different departments, check data integrity, summarize and analyze data to communicate output to senior management....',\n",
       " 'Participate in meetings with data vendors to evaluate new data sources. Duties include leveraging alternative data (e.g....',\n",
       " 'Data Analyst (Master Analytical Statistician). Use statistical software SAS to validate and analyze data. Ensure administrative & clinical data integrity &...',\n",
       " 'In particular, the Data Analyst will work to automate processes for connecting data from across sources, cleaning data, and dynamically displaying data....']"
      ]
     },
     "execution_count": 76,
     "metadata": {},
     "output_type": "execute_result"
    }
   ],
   "source": [
    "#Testing the above code\n",
    "URL =\"https://www.indeed.com/jobs?q=data%2420%2C000&l=+New+York&start=10\"\n",
    "    \n",
    "#conducting a request of the stated URL above:\n",
    "page = requests.get(URL)\n",
    "\n",
    "#specifying a desired format of “page” using the html parser - this allows python to read the various components of the page, rather than treating it as one long string.\n",
    "soup = BeautifulSoup(page.text, \"html.parser\")\n",
    "\n",
    "extract_job_title_from_result(soup)\n",
    "extract_summary_from_result(soup)"
   ]
  },
  {
   "cell_type": "code",
   "execution_count": null,
   "metadata": {},
   "outputs": [],
   "source": [
    "#Main scraper code"
   ]
  }
 ],
 "metadata": {
  "kernelspec": {
   "display_name": "Python 3",
   "language": "python",
   "name": "python3"
  },
  "language_info": {
   "codemirror_mode": {
    "name": "ipython",
    "version": 3
   },
   "file_extension": ".py",
   "mimetype": "text/x-python",
   "name": "python",
   "nbconvert_exporter": "python",
   "pygments_lexer": "ipython3",
   "version": "3.6.4"
  }
 },
 "nbformat": 4,
 "nbformat_minor": 2
}
