{
 "cells": [
  {
   "cell_type": "code",
   "execution_count": null,
   "metadata": {},
   "outputs": [],
   "source": [
    "#Import Libraries\n",
    "from bs4 import BeautifulSoup\n",
    "from tqdm import tqdm_notebook\n",
    "\n",
    "import pandas as pd\n",
    "import requests"
   ]
  },
  {
   "cell_type": "markdown",
   "metadata": {},
   "source": [
    "## Functions"
   ]
  },
  {
   "cell_type": "code",
   "execution_count": null,
   "metadata": {},
   "outputs": [],
   "source": [
    "#Extract Job URLs\n",
    "\"\"\"\n",
    "Input: soup object containing the result of a job query (e.g. Data Scientist jobs in New York)\n",
    "Output: list of the individual job urls of the jobs found in the query\n",
    "\"\"\"\n",
    "def extract_job_urls_from_result(query_soup): \n",
    "    urls = []\n",
    "    for div in query_soup.find_all(name = \"div\", attrs = {\"class\":\"row\"}):\n",
    "        for a in div.find_all(name = \"a\", attrs = {\"data-tn-element\":\"jobTitle\"}):\n",
    "            this_url = a['href']\n",
    "            to_go_url = \"https://www.indeed.com/viewjob\" + this_url[7:]\n",
    "            urls.append(to_go_url)\n",
    "    return(urls)"
   ]
  },
  {
   "cell_type": "markdown",
   "metadata": {},
   "source": [
    "## Execution Parameters"
   ]
  },
  {
   "cell_type": "code",
   "execution_count": null,
   "metadata": {},
   "outputs": [],
   "source": [
    "job_titles_path = \"..\\..\\Datasets\\Job Titles Small.csv\"\n",
    "#job_titles_path = \"..\\Datasets\\Best Jobs in America.csv\" #source: https://money.cnn.com/pf/best-jobs/2017/list/index.html\n",
    "\n",
    "city_list = ['New+York', 'Los+Angeles', 'Chicago', 'Houston',\n",
    "             'Washington', 'Dallas', 'Seattle', 'Silicon+Valley']\n",
    "\n",
    "jobs_perQuery_perCity = 25 #must be <= 50, take into account # of inaccessible ads\n",
    "min_jobs_per_query = 35 #give some extra over the above (5-10 at least)\n",
    "\n",
    "#Set accordingly to determine how many queries will be checked\n",
    "jobs_stored = 1600 #total number of jobs stored in the .csv\n",
    "queries_completed = jobs_stored // jobs_perTitle_perCity\n",
    "\n",
    "#queries_completed = 0 #or set manually"
   ]
  },
  {
   "cell_type": "markdown",
   "metadata": {},
   "source": [
    "## Program Execution"
   ]
  },
  {
   "cell_type": "code",
   "execution_count": null,
   "metadata": {},
   "outputs": [],
   "source": [
    "#Import the Job Titles Data\n",
    "job_titles = pd.read_csv(job_titles_path, sep = \",\")\n",
    "\n",
    "#Create job titles list\n",
    "job_list = list(job_titles.Title)"
   ]
  },
  {
   "cell_type": "code",
   "execution_count": null,
   "metadata": {},
   "outputs": [],
   "source": [
    "#Create queries URLs - a list of (query_job, query_url) tuples\n",
    "queries_list = []\n",
    "\n",
    "for query_job in job_list:\n",
    "    for city in city_list:\n",
    "#        for start in range(0, 150, 50):\n",
    "        query_url = \"http://www.indeed.com/jobs?q=\" + query_job.replace(' ', '+') + \\\n",
    "                    \"%2420%2C000&l=\" + str(city) + \\\n",
    "                    \"&limit=50\" #+ \"&start=\" + str(start)\n",
    "        queries_list.append((query_job, query_url))\n"
   ]
  },
  {
   "cell_type": "markdown",
   "metadata": {},
   "source": [
    "### Main Loop"
   ]
  },
  {
   "cell_type": "code",
   "execution_count": null,
   "metadata": {
    "scrolled": false
   },
   "outputs": [],
   "source": [
    "#Jupyter Progress Bar init\n",
    "pbar = tqdm_notebook(total = len(queries_list[queries_completed:]), desc = \"Checking...\")\n",
    "\n",
    "#Outer loop - go over the query results (many jobs in each)\n",
    "for query_job, query_url in queries_list[queries_completed:]:\n",
    "\n",
    "    #Send a request over the query URL and get a BeautifulSoup object out of it:\n",
    "    page = requests.get(query_url, timeout = 300)\n",
    "    soup = BeautifulSoup(page.text, \"html.parser\")\n",
    "\n",
    "    #Retrieve the specific job urls from this listing\n",
    "    job_urls = extract_job_urls_from_result(soup)\n",
    "\n",
    "    if (len(job_urls) < min_jobs_per_query):\n",
    "            print(\"Watch out! Result size for query:\", query_url, \"is:\", len(job_urls))\n",
    "\n",
    "#    print(\"Result size for query:\", query_url, \"is:\", len(job_urls))    \n",
    "    pbar.update(1) #update progress bar\n",
    "\n",
    "pbar.close()"
   ]
  }
 ],
 "metadata": {
  "kernelspec": {
   "display_name": "Python 3",
   "language": "python",
   "name": "python3"
  },
  "language_info": {
   "codemirror_mode": {
    "name": "ipython",
    "version": 3
   },
   "file_extension": ".py",
   "mimetype": "text/x-python",
   "name": "python",
   "nbconvert_exporter": "python",
   "pygments_lexer": "ipython3",
   "version": "3.6.5"
  }
 },
 "nbformat": 4,
 "nbformat_minor": 2
}
